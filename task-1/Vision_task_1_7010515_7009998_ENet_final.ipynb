{
 "cells": [
  {
   "cell_type": "markdown",
   "metadata": {},
   "source": [
    "**Group Details**\n",
    "\n",
    "1.   **Name**: Sohom Mukherjee, **Student Number**: 7010515, **Email**: somu00003@stud.uni-saarland.de\n",
    "2.   **Name**: Shayari Bhattacharjee, **Student Number**: 7009998, **Email**: shbh00002@stud.uni-saarland.de"
   ]
  },
  {
   "cell_type": "markdown",
   "metadata": {
    "id": "CpZbsQkb-lx_"
   },
   "source": [
    "# Image Segmentation Task 1\n",
    "#### Welcome to the first task of Image Segmentation. Image segmentation is the process of partitioning the image into a set of pixels representing an object. In this task, you will be introduced to the problem of image segmentation and programming pipeline involved in image segmentation."
   ]
  },
  {
   "cell_type": "markdown",
   "metadata": {
    "id": "64pQDVtj-lyE"
   },
   "source": [
    "For the purpose of this task we will be using PASCAL VOC datset. The dataset contains a total of 2913 images with segmentation annotations. Code in the cell below will download the code and extract the dataset."
   ]
  },
  {
   "cell_type": "code",
   "execution_count": null,
   "metadata": {
    "id": "zM_t4c-S3k31",
    "scrolled": true
   },
   "outputs": [],
   "source": [
    "!wget http://host.robots.ox.ac.uk/pascal/VOC/voc2012/VOCtrainval_11-May-2012.tar\n",
    "!tar -xvf VOCtrainval_11-May-2012.tar"
   ]
  },
  {
   "cell_type": "code",
   "execution_count": 2,
   "metadata": {
    "id": "6lvs9XIpBaI0"
   },
   "outputs": [
    {
     "name": "stdout",
     "output_type": "stream",
     "text": [
      "Requirement already satisfied: scipy==1.1.0 in /home/sohom/miniconda3/envs/nnti-project/lib/python3.7/site-packages (1.1.0)\r\n",
      "Requirement already satisfied: numpy>=1.8.2 in /home/sohom/miniconda3/envs/nnti-project/lib/python3.7/site-packages (from scipy==1.1.0) (1.19.2)\r\n"
     ]
    }
   ],
   "source": [
    "!pip install scipy==1.1.0"
   ]
  },
  {
   "cell_type": "markdown",
   "metadata": {
    "id": "24hEvdV5-lyF"
   },
   "source": [
    "### 1.1 Loading the dataset"
   ]
  },
  {
   "cell_type": "code",
   "execution_count": 1,
   "metadata": {
    "id": "qunDv45j24Mg"
   },
   "outputs": [],
   "source": [
    "import os\n",
    "from os.path import join as pjoin\n",
    "import collections\n",
    "import json\n",
    "import torch\n",
    "import imageio\n",
    "import numpy as np\n",
    "import scipy.misc as m\n",
    "import scipy.io as io\n",
    "import matplotlib.pyplot as plt\n",
    "import glob\n",
    "\n",
    "import PIL\n",
    "from PIL import Image\n",
    "from tqdm import tqdm\n",
    "from torch.utils import data\n",
    "from torchvision import transforms\n",
    "import logging\n",
    "\n",
    "import torch.nn as nn\n",
    "import torch.nn.functional as F\n",
    "from tqdm import tqdm\n",
    "import math\n",
    "\n",
    "class pascalVOCDataset(data.Dataset):\n",
    "    \"\"\"Data loader for the Pascal VOC semantic segmentation dataset.\n",
    "\n",
    "    Annotations from both the original VOC data (which consist of RGB images\n",
    "    in which colours map to specific classes) and the SBD (Berkely) dataset\n",
    "    (where annotations are stored as .mat files) are converted into a common\n",
    "    `label_mask` format.  Under this format, each mask is an (M,N) array of\n",
    "    integer values from 0 to 21, where 0 represents the background class.\n",
    "\n",
    "    The label masks are stored in a new folder, called `pre_encoded`, which\n",
    "    is added as a subdirectory of the `SegmentationClass` folder in the\n",
    "    original Pascal VOC data layout.\n",
    "\n",
    "    A total of five data splits are provided for working with the VOC data:\n",
    "        train: The original VOC 2012 training data - 1464 images\n",
    "        val: The original VOC 2012 validation data - 1449 images\n",
    "        trainval: The combination of `train` and `val` - 2913 images\n",
    "        train_aug: The unique images present in both the train split and\n",
    "                   training images from SBD: - 8829 images (the unique members\n",
    "                   of the result of combining lists of length 1464 and 8498)\n",
    "        train_aug_val: The original VOC 2012 validation data minus the images\n",
    "                   present in `train_aug` (This is done with the same logic as\n",
    "                   the validation set used in FCN PAMI paper, but with VOC 2012\n",
    "                   rather than VOC 2011) - 904 images\n",
    "    \"\"\"\n",
    "\n",
    "    def __init__(\n",
    "        self,\n",
    "        root,\n",
    "        sbd_path=None,\n",
    "        split=\"train_aug\",\n",
    "        is_transform=False,\n",
    "        img_size=512,\n",
    "        augmentations=None,\n",
    "        img_norm=True,\n",
    "        test_mode=False,\n",
    "    ):\n",
    "        self.root = root\n",
    "        self.sbd_path = sbd_path\n",
    "        self.split = split\n",
    "        self.is_transform = is_transform\n",
    "        self.augmentations = augmentations\n",
    "        self.img_norm = img_norm\n",
    "        self.test_mode = test_mode\n",
    "\n",
    "        self.n_classes = 21\n",
    "        self.mean = np.array([104.00699, 116.66877, 122.67892])\n",
    "        self.files = collections.defaultdict(list)\n",
    "        \n",
    "        self.img_size = img_size if isinstance(img_size, tuple) else (img_size, img_size)\n",
    "\n",
    "        if not self.test_mode:\n",
    "            for split in [\"train\", \"val\", \"trainval\"]:\n",
    "                path = pjoin(self.root, \"ImageSets/Segmentation\", split + \".txt\")\n",
    "                file_list = tuple(open(path, \"r\"))\n",
    "                file_list = [id_.rstrip() for id_ in file_list]\n",
    "                self.files[split] = file_list\n",
    "            self.setup_annotations()\n",
    "\n",
    "        self.tf = transforms.Compose(\n",
    "            [\n",
    "                # add more trasnformations as you see fit\n",
    "                transforms.ToTensor(),\n",
    "                transforms.Normalize([0.485, 0.456, 0.406], [0.229, 0.224, 0.225]),\n",
    "            ]\n",
    "        )\n",
    "\n",
    "    def __len__(self):\n",
    "        return len(self.files[self.split])\n",
    "\n",
    "    def __getitem__(self, index):\n",
    "        im_name = self.files[self.split][index]\n",
    "        im_path = pjoin(self.root, \"JPEGImages\", im_name + \".jpg\")\n",
    "        lbl_path = pjoin(self.root, \"SegmentationClass/pre_encoded\", im_name + \".png\")\n",
    "        im = Image.open(im_path)\n",
    "        lbl = Image.open(lbl_path)\n",
    "        if self.augmentations is not None:\n",
    "            im, lbl = self.augmentations(im, lbl)\n",
    "        if self.is_transform:\n",
    "            im, lbl = self.transform(im, lbl)\n",
    "        return im, torch.clamp(lbl, max=20)\n",
    "\n",
    "    def transform(self, img, lbl):\n",
    "        if self.img_size == (\"same\", \"same\"):\n",
    "            pass\n",
    "        else:\n",
    "            img = img.resize((self.img_size[0], self.img_size[1]))  # uint8 with RGB mode\n",
    "            lbl = lbl.resize((self.img_size[0], self.img_size[1]))\n",
    "        img = self.tf(img)\n",
    "        lbl = torch.from_numpy(np.array(lbl)).long()\n",
    "        lbl[lbl == 255] = 0\n",
    "        return img, lbl\n",
    "\n",
    "    def get_pascal_labels(self):\n",
    "        \"\"\"Load the mapping that associates pascal classes with label colors\n",
    "\n",
    "        Returns:\n",
    "            np.ndarray with dimensions (21, 3)\n",
    "        \"\"\"\n",
    "        return np.asarray(\n",
    "            [\n",
    "                [0, 0, 0],\n",
    "                [128, 0, 0],\n",
    "                [0, 128, 0],\n",
    "                [128, 128, 0],\n",
    "                [0, 0, 128],\n",
    "                [128, 0, 128],\n",
    "                [0, 128, 128],\n",
    "                [128, 128, 128],\n",
    "                [64, 0, 0],\n",
    "                [192, 0, 0],\n",
    "                [64, 128, 0],\n",
    "                [192, 128, 0],\n",
    "                [64, 0, 128],\n",
    "                [192, 0, 128],\n",
    "                [64, 128, 128],\n",
    "                [192, 128, 128],\n",
    "                [0, 64, 0],\n",
    "                [128, 64, 0],\n",
    "                [0, 192, 0],\n",
    "                [128, 192, 0],\n",
    "                [0, 64, 128],\n",
    "            ]\n",
    "        )\n",
    "\n",
    "    def encode_segmap(self, mask):\n",
    "        \"\"\"Encode segmentation label images as pascal classes\n",
    "\n",
    "        Args:\n",
    "            mask (np.ndarray): raw segmentation label image of dimension\n",
    "              (M, N, 3), in which the Pascal classes are encoded as colours.\n",
    "\n",
    "        Returns:\n",
    "            (np.ndarray): class map with dimensions (M,N), where the value at\n",
    "            a given location is the integer denoting the class index.\n",
    "        \"\"\"\n",
    "        mask = mask.astype(int)\n",
    "        label_mask = np.zeros((mask.shape[0], mask.shape[1]), dtype=np.int16)\n",
    "        for ii, label in enumerate(self.get_pascal_labels()):\n",
    "            label_mask[np.where(np.all(mask == label, axis=-1))[:2]] = ii\n",
    "        label_mask = label_mask.astype(int)\n",
    "        # print(np.unique(label_mask))\n",
    "        return label_mask\n",
    "\n",
    "    def decode_segmap(self, label_mask, plot=False):\n",
    "        \"\"\"Decode segmentation class labels into a color image\n",
    "\n",
    "        Args:\n",
    "            label_mask (np.ndarray): an (M,N) array of integer values denoting\n",
    "              the class label at each spatial location.\n",
    "            plot (bool, optional): whether to show the resulting color image\n",
    "              in a figure.\n",
    "\n",
    "        Returns:\n",
    "            (np.ndarray, optional): the resulting decoded color image.\n",
    "        \"\"\"\n",
    "        label_colours = self.get_pascal_labels()\n",
    "        r = label_mask.copy()\n",
    "        g = label_mask.copy()\n",
    "        b = label_mask.copy()\n",
    "        for ll in range(0, self.n_classes):\n",
    "            r[label_mask == ll] = label_colours[ll, 0]\n",
    "            g[label_mask == ll] = label_colours[ll, 1]\n",
    "            b[label_mask == ll] = label_colours[ll, 2]\n",
    "        rgb = np.zeros((label_mask.shape[0], label_mask.shape[1], 3))\n",
    "        rgb[:, :, 0] = r / 255.0\n",
    "        rgb[:, :, 1] = g / 255.0\n",
    "        rgb[:, :, 2] = b / 255.0\n",
    "        if plot:\n",
    "            plt.imshow(rgb)\n",
    "            plt.show()\n",
    "        else:\n",
    "            return rgb\n",
    "\n",
    "    def setup_annotations(self):\n",
    "        \"\"\"Sets up Berkley annotations by adding image indices to the\n",
    "        `train_aug` split and pre-encode all segmentation labels into the\n",
    "        common label_mask format (if this has not already been done). This\n",
    "        function also defines the `train_aug` and `train_aug_val` data splits\n",
    "        according to the description in the class docstring\n",
    "        \"\"\"\n",
    "        sbd_path = self.sbd_path\n",
    "        target_path = pjoin(self.root, \"SegmentationClass/pre_encoded\")\n",
    "        if not os.path.exists(target_path):\n",
    "            os.makedirs(target_path)\n",
    "        train_aug = self.files[\"train\"]\n",
    "\n",
    "        # keep unique elements (stable)\n",
    "        train_aug = [train_aug[i] for i in sorted(np.unique(train_aug, return_index=True)[1])]\n",
    "        self.files[\"train_aug\"] = train_aug\n",
    "        set_diff = set(self.files[\"val\"]) - set(train_aug)  # remove overlap\n",
    "        self.files[\"train_aug_val\"] = list(set_diff)\n",
    "\n",
    "        pre_encoded = glob.glob(pjoin(target_path, \"*.png\"))\n",
    "        expected = np.unique(self.files[\"train_aug\"] + self.files[\"val\"]).size\n",
    "\n",
    "        if len(pre_encoded) != expected:\n",
    "            print(\"Pre-encoding segmentation masks...\")\n",
    "\n",
    "            for ii in tqdm(self.files[\"trainval\"]):\n",
    "                fname = ii + \".png\"\n",
    "                lbl_path = pjoin(self.root, \"SegmentationClass\", fname)\n",
    "                lbl = self.encode_segmap(m.imread(lbl_path))\n",
    "                lbl = m.toimage(lbl, high=lbl.max(), low=lbl.min())\n",
    "                m.imsave(pjoin(target_path, fname), lbl)\n",
    "\n",
    "        assert expected == 2913, \"unexpected dataset sizes\""
   ]
  },
  {
   "cell_type": "markdown",
   "metadata": {
    "id": "hEZ-0LvO-lyK"
   },
   "source": [
    "### 1.2 Define the model architecture (2.0 point)\n",
    "In this section you have the freedom to decide your own model. Keep in mind though, to perform image segmentation, you need to implement an architecture that does pixel level classification i.e. for each pixel in the image you need to predict the probability of it belonging to one of the 21 categories."
   ]
  },
  {
   "cell_type": "code",
   "execution_count": 2,
   "metadata": {
    "id": "BI7lVkjxps5r"
   },
   "outputs": [],
   "source": [
    "# Base Model\n",
    "\n",
    "class BaseModel(nn.Module):\n",
    "    \"\"\"We utilise the base model to initialize weights for ENet model\"\"\"\n",
    "    def __init__(self):\n",
    "        super(BaseModel, self).__init__()\n",
    "        self.logger = logging.getLogger(self.__class__.__name__)\n",
    "\n",
    "    def forward(self):\n",
    "        raise NotImplementedError\n",
    "\n",
    "    def summary(self):\n",
    "        model_parameters = filter(lambda p: p.requires_grad, self.parameters())\n",
    "        nbr_params = sum([np.prod(p.size()) for p in model_parameters])\n",
    "        self.logger.info(f'Nbr of trainable parameters: {nbr_params}')\n",
    "\n",
    "    def __str__(self):\n",
    "        model_parameters = filter(lambda p: p.requires_grad, self.parameters())\n",
    "        nbr_params = sum([np.prod(p.size()) for p in model_parameters])\n",
    "        return super(BaseModel, self).__str__() + f'\\nNbr of trainable parameters: {nbr_params}'\n",
    "        #return summary(self, input_shape=(2, 3, 224, 224))\n",
    "\n",
    "def dir_exists(path):\n",
    "    if not os.path.exists(path):\n",
    "            os.makedirs(path)\n",
    "\n",
    "def initialize_weights(*models):\n",
    "    for model in models:\n",
    "        for m in model.modules():\n",
    "            if isinstance(m, nn.Conv2d):\n",
    "                nn.init.kaiming_normal_(m.weight.data, nonlinearity='relu')\n",
    "            elif isinstance(m, nn.BatchNorm2d):\n",
    "                m.weight.data.fill_(1.)\n",
    "                m.bias.data.fill_(1e-4)\n",
    "            elif isinstance(m, nn.Linear):\n",
    "                m.weight.data.normal_(0.0, 0.0001)\n",
    "                m.bias.data.zero_()"
   ]
  },
  {
   "cell_type": "code",
   "execution_count": 3,
   "metadata": {
    "id": "tTpzYby5ps5s"
   },
   "outputs": [],
   "source": [
    "# ENet Model \n",
    "\n",
    "class InitalBlock(nn.Module):\n",
    "    \"\"\"This class defines the initial bottleneck for ENet architecture\"\"\"\n",
    "    def __init__(self, in_channels, use_prelu=True):\n",
    "        super(InitalBlock, self).__init__()\n",
    "        self.pool = nn.MaxPool2d(kernel_size=2, stride=2, ceil_mode=True)\n",
    "        self.conv = nn.Conv2d(in_channels, 16 - in_channels, 3, padding=1, stride=2)\n",
    "        self.bn = nn.BatchNorm2d(16)\n",
    "        self.prelu = nn.PReLU(16) if use_prelu else nn.ReLU(inplace=True)\n",
    "\n",
    "    def forward(self, x):   \n",
    "        x = torch.cat((self.pool(x), self.conv(x)), dim=1)\n",
    "        x = self.bn(x)\n",
    "        x = self.prelu(x)\n",
    "        return x\n",
    "\n",
    "class BottleNeck(nn.Module):\n",
    "    \"\"\"This class defines the various bottlenecks for upsampling, downsampling, and convolution\"\"\"\n",
    "    def __init__(self, in_channels, out_channels=None, activation=None, dilation=1, downsample=False, proj_ratio=4, \n",
    "                        upsample=False, asymetric=False, regularize=True, p_drop=None, use_prelu=True):\n",
    "        super(BottleNeck, self).__init__()\n",
    "\n",
    "        self.pad = 0\n",
    "        self.upsample = upsample\n",
    "        self.downsample = downsample\n",
    "        if out_channels is None: out_channels = in_channels\n",
    "        else: self.pad = out_channels - in_channels\n",
    "\n",
    "        if regularize: assert p_drop is not None\n",
    "        if downsample: assert not upsample\n",
    "        elif upsample: assert not downsample\n",
    "        inter_channels = in_channels//proj_ratio\n",
    "\n",
    "        # Main\n",
    "        if upsample:\n",
    "            self.spatil_conv = nn.Conv2d(in_channels, out_channels, 1, bias=False)\n",
    "            self.bn_up = nn.BatchNorm2d(out_channels)\n",
    "            self.unpool = nn.MaxUnpool2d(kernel_size=2, stride=2)\n",
    "        elif downsample:\n",
    "            self.pool = nn.MaxPool2d(kernel_size=2, stride=2, return_indices=True)\n",
    "\n",
    "        # Bottleneck\n",
    "        if downsample: \n",
    "            self.conv1 = nn.Conv2d(in_channels, inter_channels, 2, stride=2, bias=False)\n",
    "        else:\n",
    "            self.conv1 = nn.Conv2d(in_channels, inter_channels, 1, bias=False)\n",
    "        self.bn1 = nn.BatchNorm2d(inter_channels)\n",
    "        self.prelu1 = nn.PReLU() if use_prelu else nn.ReLU(inplace=True)\n",
    "\n",
    "        if asymetric:\n",
    "            self.conv2 = nn.Sequential(\n",
    "                nn.Conv2d(inter_channels, inter_channels, kernel_size=(1,5), padding=(0,2)),\n",
    "                nn.BatchNorm2d(inter_channels),\n",
    "                nn.PReLU() if use_prelu else nn.ReLU(inplace=True),\n",
    "                nn.Conv2d(inter_channels, inter_channels, kernel_size=(5,1), padding=(2,0)),\n",
    "            )\n",
    "        elif upsample:\n",
    "            self.conv2 = nn.ConvTranspose2d(inter_channels, inter_channels, kernel_size=3, padding=1,\n",
    "                                            output_padding=1, stride=2, bias=False)\n",
    "        else:\n",
    "            self.conv2 = nn.Conv2d(inter_channels, inter_channels, 3, padding=dilation, dilation=dilation, bias=False)\n",
    "        self.bn2 = nn.BatchNorm2d(inter_channels)\n",
    "        self.prelu2 = nn.PReLU() if use_prelu else nn.ReLU(inplace=True)\n",
    "\n",
    "        self.conv3 = nn.Conv2d(inter_channels, out_channels, 1, bias=False)\n",
    "        self.bn3 = nn.BatchNorm2d(out_channels)\n",
    "        self.prelu3 = nn.PReLU() if use_prelu else nn.ReLU(inplace=True)\n",
    "\n",
    "        self.regularizer = nn.Dropout2d(p_drop) if regularize else None\n",
    "        self.prelu_out = nn.PReLU() if use_prelu else nn.ReLU(inplace=True)\n",
    "\n",
    "    def forward(self, x, indices=None, output_size=None):\n",
    "        # Main branch\n",
    "        identity = x\n",
    "        if self.upsample:\n",
    "            assert (indices is not None) and (output_size is not None)\n",
    "            identity = self.bn_up(self.spatil_conv(identity))\n",
    "            if identity.size() != indices.size():\n",
    "                pad = (indices.size(3) - identity.size(3), 0, indices.size(2) - identity.size(2), 0)\n",
    "                identity = F.pad(identity, pad, \"constant\", 0)\n",
    "            identity = self.unpool(identity, indices=indices)#, output_size=output_size)\n",
    "        elif self.downsample:\n",
    "            identity, idx = self.pool(identity)\n",
    "\n",
    "        if self.pad > 0:\n",
    "            extras = torch.zeros((identity.size(0), self.pad, identity.size(2), identity.size(3)))\n",
    "            if torch.cuda.is_available(): extras = extras.cuda(0)\n",
    "            identity = torch.cat((identity, extras), dim = 1)\n",
    "\n",
    "        # Bottleneck\n",
    "        x = self.conv1(x)\n",
    "        x = self.bn1(x)\n",
    "        x = self.prelu1(x)\n",
    "        x = self.conv2(x)\n",
    "        x = self.bn2(x)\n",
    "        x = self.prelu2(x)\n",
    "        x = self.conv3(x)\n",
    "        x = self.bn3(x)\n",
    "        x = self.prelu3(x)\n",
    "        if self.regularizer is not None:\n",
    "            x = self.regularizer(x)\n",
    "\n",
    "        # When the input dim is odd, we might have a mismatch of one pixel\n",
    "        if identity.size() != x.size():\n",
    "            pad = (identity.size(3) - x.size(3), 0, identity.size(2) - x.size(2), 0)\n",
    "            x = F.pad(x, pad, \"constant\", 0)\n",
    "\n",
    "        x += identity\n",
    "        x = self.prelu_out(x)\n",
    "\n",
    "        if self.downsample:\n",
    "            return x, idx\n",
    "        return x\n",
    "\n",
    "class ENet(BaseModel):\n",
    "    \"\"\"This class defines the various stages of ENet architecture\"\"\"\n",
    "    def __init__(self, num_classes, in_channels=3, freeze_bn=False, **_):\n",
    "        super(ENet, self).__init__()\n",
    "        self.initial = InitalBlock(in_channels)\n",
    "\n",
    "        # Stage 1\n",
    "        self.bottleneck10 = BottleNeck(16, 64, downsample=True, p_drop=0.01)\n",
    "        self.bottleneck11 = BottleNeck(64, p_drop=0.01)\n",
    "        self.bottleneck12 = BottleNeck(64, p_drop=0.01)\n",
    "        self.bottleneck13 = BottleNeck(64, p_drop=0.01)\n",
    "        self.bottleneck14 = BottleNeck(64, p_drop=0.01)\n",
    "\n",
    "        # Stage 2\n",
    "        self.bottleneck20 = BottleNeck(64, 128, downsample=True, p_drop=0.1)\n",
    "        self.bottleneck21 = BottleNeck(128, p_drop=0.1)\n",
    "        self.bottleneck22 = BottleNeck(128, dilation=2, p_drop=0.1)\n",
    "        self.bottleneck23 = BottleNeck(128, asymetric=True, p_drop=0.1)\n",
    "        self.bottleneck24 = BottleNeck(128, dilation=4, p_drop=0.1)\n",
    "        self.bottleneck25 = BottleNeck(128, p_drop=0.1)\n",
    "        self.bottleneck26 = BottleNeck(128, dilation=8, p_drop=0.1)\n",
    "        self.bottleneck27 = BottleNeck(128, asymetric=True, p_drop=0.1)\n",
    "        self.bottleneck28 = BottleNeck(128, dilation=16, p_drop=0.1)\n",
    "    \n",
    "        # Stage 3\n",
    "        self.bottleneck31 = BottleNeck(128, p_drop=0.1)\n",
    "        self.bottleneck32 = BottleNeck(128, dilation=2, p_drop=0.1)\n",
    "        self.bottleneck33 = BottleNeck(128, asymetric=True, p_drop=0.1)\n",
    "        self.bottleneck34 = BottleNeck(128, dilation=4, p_drop=0.1)\n",
    "        self.bottleneck35 = BottleNeck(128, p_drop=0.1)\n",
    "        self.bottleneck36 = BottleNeck(128, dilation=8, p_drop=0.1)\n",
    "        self.bottleneck37 = BottleNeck(128, asymetric=True, p_drop=0.1)\n",
    "        self.bottleneck38 = BottleNeck(128, dilation=16, p_drop=0.1)\n",
    "\n",
    "        # Stage 4\n",
    "        self.bottleneck40 = BottleNeck(128, 64, upsample=True, p_drop=0.1, use_prelu=False)\n",
    "        self.bottleneck41 = BottleNeck(64, p_drop=0.1, use_prelu=False)\n",
    "        self.bottleneck42 = BottleNeck(64, p_drop=0.1, use_prelu=False)\n",
    "\n",
    "        # Stage 5\n",
    "        self.bottleneck50 = BottleNeck(64, 16, upsample=True, p_drop=0.1, use_prelu=False)\n",
    "        self.bottleneck51 = BottleNeck(16, p_drop=0.1, use_prelu=False)\n",
    "\n",
    "        # Stage 6\n",
    "        self.fullconv = nn.ConvTranspose2d(16, num_classes, kernel_size=3, padding=1,\n",
    "                                            output_padding=1, stride=2, bias=False)\n",
    "        initialize_weights(self)\n",
    "        if freeze_bn: self.freeze_bn()\n",
    "\n",
    "    def forward(self, x):\n",
    "        x = self.initial(x)\n",
    "\n",
    "        # Stage 1\n",
    "        sz1 = x.size()\n",
    "        x, indices1 = self.bottleneck10(x)\n",
    "        x = self.bottleneck11(x)\n",
    "        x = self.bottleneck12(x)\n",
    "        x = self.bottleneck13(x)\n",
    "        x = self.bottleneck14(x)\n",
    "\n",
    "        # Stage 2\n",
    "        sz2 = x.size()\n",
    "        x, indices2 = self.bottleneck20(x)\n",
    "        x = self.bottleneck21(x)\n",
    "        x = self.bottleneck22(x)\n",
    "        x = self.bottleneck23(x)\n",
    "        x = self.bottleneck24(x)\n",
    "        x = self.bottleneck25(x)\n",
    "        x = self.bottleneck26(x)\n",
    "        x = self.bottleneck27(x)\n",
    "        x = self.bottleneck28(x)\n",
    "\n",
    "        # Stage 3\n",
    "        x = self.bottleneck31(x)\n",
    "        x = self.bottleneck32(x)\n",
    "        x = self.bottleneck33(x)\n",
    "        x = self.bottleneck34(x)\n",
    "        x = self.bottleneck35(x)\n",
    "        x = self.bottleneck36(x)\n",
    "        x = self.bottleneck37(x)\n",
    "        x = self.bottleneck38(x)\n",
    "\n",
    "        # Stage 4\n",
    "        x = self.bottleneck40(x, indices=indices2, output_size=sz2)\n",
    "        x = self.bottleneck41(x)\n",
    "        x = self.bottleneck42(x)\n",
    "\n",
    "        # Stage 5\n",
    "        x = self.bottleneck50(x, indices=indices1, output_size=sz1)\n",
    "        x = self.bottleneck51(x)\n",
    "\n",
    "        # Stage 6\n",
    "        x = self.fullconv(x)\n",
    "        return x \n",
    "\n",
    "    def get_backbone_params(self):\n",
    "        # There is no backbone for unet, all the parameters are trained from scratch\n",
    "        return []\n",
    "\n",
    "    def get_decoder_params(self):\n",
    "        return self.parameters()\n",
    "\n",
    "    def freeze_bn(self):\n",
    "        for module in self.modules():\n",
    "            if isinstance(module, nn.BatchNorm2d): module.eval()"
   ]
  },
  {
   "cell_type": "code",
   "execution_count": 4,
   "metadata": {
    "colab": {
     "base_uri": "https://localhost:8080/"
    },
    "id": "QfQiOnEkGZat",
    "outputId": "43baf49b-e1d2-46d6-a5c9-39ef9ff2d29b"
   },
   "outputs": [
    {
     "name": "stdout",
     "output_type": "stream",
     "text": [
      "ENet(\n",
      "  (initial): InitalBlock(\n",
      "    (pool): MaxPool2d(kernel_size=2, stride=2, padding=0, dilation=1, ceil_mode=True)\n",
      "    (conv): Conv2d(3, 13, kernel_size=(3, 3), stride=(2, 2), padding=(1, 1))\n",
      "    (bn): BatchNorm2d(16, eps=1e-05, momentum=0.1, affine=True, track_running_stats=True)\n",
      "    (prelu): PReLU(num_parameters=16)\n",
      "  )\n",
      "  (bottleneck10): BottleNeck(\n",
      "    (pool): MaxPool2d(kernel_size=2, stride=2, padding=0, dilation=1, ceil_mode=False)\n",
      "    (conv1): Conv2d(16, 4, kernel_size=(2, 2), stride=(2, 2), bias=False)\n",
      "    (bn1): BatchNorm2d(4, eps=1e-05, momentum=0.1, affine=True, track_running_stats=True)\n",
      "    (prelu1): PReLU(num_parameters=1)\n",
      "    (conv2): Conv2d(4, 4, kernel_size=(3, 3), stride=(1, 1), padding=(1, 1), bias=False)\n",
      "    (bn2): BatchNorm2d(4, eps=1e-05, momentum=0.1, affine=True, track_running_stats=True)\n",
      "    (prelu2): PReLU(num_parameters=1)\n",
      "    (conv3): Conv2d(4, 64, kernel_size=(1, 1), stride=(1, 1), bias=False)\n",
      "    (bn3): BatchNorm2d(64, eps=1e-05, momentum=0.1, affine=True, track_running_stats=True)\n",
      "    (prelu3): PReLU(num_parameters=1)\n",
      "    (regularizer): Dropout2d(p=0.01, inplace=False)\n",
      "    (prelu_out): PReLU(num_parameters=1)\n",
      "  )\n",
      "  (bottleneck11): BottleNeck(\n",
      "    (conv1): Conv2d(64, 16, kernel_size=(1, 1), stride=(1, 1), bias=False)\n",
      "    (bn1): BatchNorm2d(16, eps=1e-05, momentum=0.1, affine=True, track_running_stats=True)\n",
      "    (prelu1): PReLU(num_parameters=1)\n",
      "    (conv2): Conv2d(16, 16, kernel_size=(3, 3), stride=(1, 1), padding=(1, 1), bias=False)\n",
      "    (bn2): BatchNorm2d(16, eps=1e-05, momentum=0.1, affine=True, track_running_stats=True)\n",
      "    (prelu2): PReLU(num_parameters=1)\n",
      "    (conv3): Conv2d(16, 64, kernel_size=(1, 1), stride=(1, 1), bias=False)\n",
      "    (bn3): BatchNorm2d(64, eps=1e-05, momentum=0.1, affine=True, track_running_stats=True)\n",
      "    (prelu3): PReLU(num_parameters=1)\n",
      "    (regularizer): Dropout2d(p=0.01, inplace=False)\n",
      "    (prelu_out): PReLU(num_parameters=1)\n",
      "  )\n",
      "  (bottleneck12): BottleNeck(\n",
      "    (conv1): Conv2d(64, 16, kernel_size=(1, 1), stride=(1, 1), bias=False)\n",
      "    (bn1): BatchNorm2d(16, eps=1e-05, momentum=0.1, affine=True, track_running_stats=True)\n",
      "    (prelu1): PReLU(num_parameters=1)\n",
      "    (conv2): Conv2d(16, 16, kernel_size=(3, 3), stride=(1, 1), padding=(1, 1), bias=False)\n",
      "    (bn2): BatchNorm2d(16, eps=1e-05, momentum=0.1, affine=True, track_running_stats=True)\n",
      "    (prelu2): PReLU(num_parameters=1)\n",
      "    (conv3): Conv2d(16, 64, kernel_size=(1, 1), stride=(1, 1), bias=False)\n",
      "    (bn3): BatchNorm2d(64, eps=1e-05, momentum=0.1, affine=True, track_running_stats=True)\n",
      "    (prelu3): PReLU(num_parameters=1)\n",
      "    (regularizer): Dropout2d(p=0.01, inplace=False)\n",
      "    (prelu_out): PReLU(num_parameters=1)\n",
      "  )\n",
      "  (bottleneck13): BottleNeck(\n",
      "    (conv1): Conv2d(64, 16, kernel_size=(1, 1), stride=(1, 1), bias=False)\n",
      "    (bn1): BatchNorm2d(16, eps=1e-05, momentum=0.1, affine=True, track_running_stats=True)\n",
      "    (prelu1): PReLU(num_parameters=1)\n",
      "    (conv2): Conv2d(16, 16, kernel_size=(3, 3), stride=(1, 1), padding=(1, 1), bias=False)\n",
      "    (bn2): BatchNorm2d(16, eps=1e-05, momentum=0.1, affine=True, track_running_stats=True)\n",
      "    (prelu2): PReLU(num_parameters=1)\n",
      "    (conv3): Conv2d(16, 64, kernel_size=(1, 1), stride=(1, 1), bias=False)\n",
      "    (bn3): BatchNorm2d(64, eps=1e-05, momentum=0.1, affine=True, track_running_stats=True)\n",
      "    (prelu3): PReLU(num_parameters=1)\n",
      "    (regularizer): Dropout2d(p=0.01, inplace=False)\n",
      "    (prelu_out): PReLU(num_parameters=1)\n",
      "  )\n",
      "  (bottleneck14): BottleNeck(\n",
      "    (conv1): Conv2d(64, 16, kernel_size=(1, 1), stride=(1, 1), bias=False)\n",
      "    (bn1): BatchNorm2d(16, eps=1e-05, momentum=0.1, affine=True, track_running_stats=True)\n",
      "    (prelu1): PReLU(num_parameters=1)\n",
      "    (conv2): Conv2d(16, 16, kernel_size=(3, 3), stride=(1, 1), padding=(1, 1), bias=False)\n",
      "    (bn2): BatchNorm2d(16, eps=1e-05, momentum=0.1, affine=True, track_running_stats=True)\n",
      "    (prelu2): PReLU(num_parameters=1)\n",
      "    (conv3): Conv2d(16, 64, kernel_size=(1, 1), stride=(1, 1), bias=False)\n",
      "    (bn3): BatchNorm2d(64, eps=1e-05, momentum=0.1, affine=True, track_running_stats=True)\n",
      "    (prelu3): PReLU(num_parameters=1)\n",
      "    (regularizer): Dropout2d(p=0.01, inplace=False)\n",
      "    (prelu_out): PReLU(num_parameters=1)\n",
      "  )\n",
      "  (bottleneck20): BottleNeck(\n",
      "    (pool): MaxPool2d(kernel_size=2, stride=2, padding=0, dilation=1, ceil_mode=False)\n",
      "    (conv1): Conv2d(64, 16, kernel_size=(2, 2), stride=(2, 2), bias=False)\n",
      "    (bn1): BatchNorm2d(16, eps=1e-05, momentum=0.1, affine=True, track_running_stats=True)\n",
      "    (prelu1): PReLU(num_parameters=1)\n",
      "    (conv2): Conv2d(16, 16, kernel_size=(3, 3), stride=(1, 1), padding=(1, 1), bias=False)\n",
      "    (bn2): BatchNorm2d(16, eps=1e-05, momentum=0.1, affine=True, track_running_stats=True)\n",
      "    (prelu2): PReLU(num_parameters=1)\n",
      "    (conv3): Conv2d(16, 128, kernel_size=(1, 1), stride=(1, 1), bias=False)\n",
      "    (bn3): BatchNorm2d(128, eps=1e-05, momentum=0.1, affine=True, track_running_stats=True)\n",
      "    (prelu3): PReLU(num_parameters=1)\n",
      "    (regularizer): Dropout2d(p=0.1, inplace=False)\n",
      "    (prelu_out): PReLU(num_parameters=1)\n",
      "  )\n",
      "  (bottleneck21): BottleNeck(\n",
      "    (conv1): Conv2d(128, 32, kernel_size=(1, 1), stride=(1, 1), bias=False)\n",
      "    (bn1): BatchNorm2d(32, eps=1e-05, momentum=0.1, affine=True, track_running_stats=True)\n",
      "    (prelu1): PReLU(num_parameters=1)\n",
      "    (conv2): Conv2d(32, 32, kernel_size=(3, 3), stride=(1, 1), padding=(1, 1), bias=False)\n",
      "    (bn2): BatchNorm2d(32, eps=1e-05, momentum=0.1, affine=True, track_running_stats=True)\n",
      "    (prelu2): PReLU(num_parameters=1)\n",
      "    (conv3): Conv2d(32, 128, kernel_size=(1, 1), stride=(1, 1), bias=False)\n",
      "    (bn3): BatchNorm2d(128, eps=1e-05, momentum=0.1, affine=True, track_running_stats=True)\n",
      "    (prelu3): PReLU(num_parameters=1)\n",
      "    (regularizer): Dropout2d(p=0.1, inplace=False)\n",
      "    (prelu_out): PReLU(num_parameters=1)\n",
      "  )\n",
      "  (bottleneck22): BottleNeck(\n",
      "    (conv1): Conv2d(128, 32, kernel_size=(1, 1), stride=(1, 1), bias=False)\n",
      "    (bn1): BatchNorm2d(32, eps=1e-05, momentum=0.1, affine=True, track_running_stats=True)\n",
      "    (prelu1): PReLU(num_parameters=1)\n",
      "    (conv2): Conv2d(32, 32, kernel_size=(3, 3), stride=(1, 1), padding=(2, 2), dilation=(2, 2), bias=False)\n",
      "    (bn2): BatchNorm2d(32, eps=1e-05, momentum=0.1, affine=True, track_running_stats=True)\n",
      "    (prelu2): PReLU(num_parameters=1)\n",
      "    (conv3): Conv2d(32, 128, kernel_size=(1, 1), stride=(1, 1), bias=False)\n",
      "    (bn3): BatchNorm2d(128, eps=1e-05, momentum=0.1, affine=True, track_running_stats=True)\n",
      "    (prelu3): PReLU(num_parameters=1)\n",
      "    (regularizer): Dropout2d(p=0.1, inplace=False)\n",
      "    (prelu_out): PReLU(num_parameters=1)\n",
      "  )\n",
      "  (bottleneck23): BottleNeck(\n",
      "    (conv1): Conv2d(128, 32, kernel_size=(1, 1), stride=(1, 1), bias=False)\n",
      "    (bn1): BatchNorm2d(32, eps=1e-05, momentum=0.1, affine=True, track_running_stats=True)\n",
      "    (prelu1): PReLU(num_parameters=1)\n",
      "    (conv2): Sequential(\n",
      "      (0): Conv2d(32, 32, kernel_size=(1, 5), stride=(1, 1), padding=(0, 2))\n",
      "      (1): BatchNorm2d(32, eps=1e-05, momentum=0.1, affine=True, track_running_stats=True)\n",
      "      (2): PReLU(num_parameters=1)\n",
      "      (3): Conv2d(32, 32, kernel_size=(5, 1), stride=(1, 1), padding=(2, 0))\n",
      "    )\n",
      "    (bn2): BatchNorm2d(32, eps=1e-05, momentum=0.1, affine=True, track_running_stats=True)\n",
      "    (prelu2): PReLU(num_parameters=1)\n",
      "    (conv3): Conv2d(32, 128, kernel_size=(1, 1), stride=(1, 1), bias=False)\n",
      "    (bn3): BatchNorm2d(128, eps=1e-05, momentum=0.1, affine=True, track_running_stats=True)\n",
      "    (prelu3): PReLU(num_parameters=1)\n",
      "    (regularizer): Dropout2d(p=0.1, inplace=False)\n",
      "    (prelu_out): PReLU(num_parameters=1)\n",
      "  )\n",
      "  (bottleneck24): BottleNeck(\n",
      "    (conv1): Conv2d(128, 32, kernel_size=(1, 1), stride=(1, 1), bias=False)\n",
      "    (bn1): BatchNorm2d(32, eps=1e-05, momentum=0.1, affine=True, track_running_stats=True)\n",
      "    (prelu1): PReLU(num_parameters=1)\n",
      "    (conv2): Conv2d(32, 32, kernel_size=(3, 3), stride=(1, 1), padding=(4, 4), dilation=(4, 4), bias=False)\n",
      "    (bn2): BatchNorm2d(32, eps=1e-05, momentum=0.1, affine=True, track_running_stats=True)\n",
      "    (prelu2): PReLU(num_parameters=1)\n",
      "    (conv3): Conv2d(32, 128, kernel_size=(1, 1), stride=(1, 1), bias=False)\n",
      "    (bn3): BatchNorm2d(128, eps=1e-05, momentum=0.1, affine=True, track_running_stats=True)\n",
      "    (prelu3): PReLU(num_parameters=1)\n",
      "    (regularizer): Dropout2d(p=0.1, inplace=False)\n",
      "    (prelu_out): PReLU(num_parameters=1)\n",
      "  )\n",
      "  (bottleneck25): BottleNeck(\n",
      "    (conv1): Conv2d(128, 32, kernel_size=(1, 1), stride=(1, 1), bias=False)\n",
      "    (bn1): BatchNorm2d(32, eps=1e-05, momentum=0.1, affine=True, track_running_stats=True)\n",
      "    (prelu1): PReLU(num_parameters=1)\n",
      "    (conv2): Conv2d(32, 32, kernel_size=(3, 3), stride=(1, 1), padding=(1, 1), bias=False)\n",
      "    (bn2): BatchNorm2d(32, eps=1e-05, momentum=0.1, affine=True, track_running_stats=True)\n",
      "    (prelu2): PReLU(num_parameters=1)\n",
      "    (conv3): Conv2d(32, 128, kernel_size=(1, 1), stride=(1, 1), bias=False)\n",
      "    (bn3): BatchNorm2d(128, eps=1e-05, momentum=0.1, affine=True, track_running_stats=True)\n",
      "    (prelu3): PReLU(num_parameters=1)\n",
      "    (regularizer): Dropout2d(p=0.1, inplace=False)\n",
      "    (prelu_out): PReLU(num_parameters=1)\n",
      "  )\n",
      "  (bottleneck26): BottleNeck(\n",
      "    (conv1): Conv2d(128, 32, kernel_size=(1, 1), stride=(1, 1), bias=False)\n",
      "    (bn1): BatchNorm2d(32, eps=1e-05, momentum=0.1, affine=True, track_running_stats=True)\n",
      "    (prelu1): PReLU(num_parameters=1)\n",
      "    (conv2): Conv2d(32, 32, kernel_size=(3, 3), stride=(1, 1), padding=(8, 8), dilation=(8, 8), bias=False)\n",
      "    (bn2): BatchNorm2d(32, eps=1e-05, momentum=0.1, affine=True, track_running_stats=True)\n",
      "    (prelu2): PReLU(num_parameters=1)\n",
      "    (conv3): Conv2d(32, 128, kernel_size=(1, 1), stride=(1, 1), bias=False)\n",
      "    (bn3): BatchNorm2d(128, eps=1e-05, momentum=0.1, affine=True, track_running_stats=True)\n",
      "    (prelu3): PReLU(num_parameters=1)\n",
      "    (regularizer): Dropout2d(p=0.1, inplace=False)\n",
      "    (prelu_out): PReLU(num_parameters=1)\n",
      "  )\n",
      "  (bottleneck27): BottleNeck(\n",
      "    (conv1): Conv2d(128, 32, kernel_size=(1, 1), stride=(1, 1), bias=False)\n",
      "    (bn1): BatchNorm2d(32, eps=1e-05, momentum=0.1, affine=True, track_running_stats=True)\n",
      "    (prelu1): PReLU(num_parameters=1)\n",
      "    (conv2): Sequential(\n",
      "      (0): Conv2d(32, 32, kernel_size=(1, 5), stride=(1, 1), padding=(0, 2))\n",
      "      (1): BatchNorm2d(32, eps=1e-05, momentum=0.1, affine=True, track_running_stats=True)\n",
      "      (2): PReLU(num_parameters=1)\n",
      "      (3): Conv2d(32, 32, kernel_size=(5, 1), stride=(1, 1), padding=(2, 0))\n",
      "    )\n",
      "    (bn2): BatchNorm2d(32, eps=1e-05, momentum=0.1, affine=True, track_running_stats=True)\n",
      "    (prelu2): PReLU(num_parameters=1)\n",
      "    (conv3): Conv2d(32, 128, kernel_size=(1, 1), stride=(1, 1), bias=False)\n",
      "    (bn3): BatchNorm2d(128, eps=1e-05, momentum=0.1, affine=True, track_running_stats=True)\n",
      "    (prelu3): PReLU(num_parameters=1)\n",
      "    (regularizer): Dropout2d(p=0.1, inplace=False)\n",
      "    (prelu_out): PReLU(num_parameters=1)\n",
      "  )\n",
      "  (bottleneck28): BottleNeck(\n",
      "    (conv1): Conv2d(128, 32, kernel_size=(1, 1), stride=(1, 1), bias=False)\n",
      "    (bn1): BatchNorm2d(32, eps=1e-05, momentum=0.1, affine=True, track_running_stats=True)\n",
      "    (prelu1): PReLU(num_parameters=1)\n",
      "    (conv2): Conv2d(32, 32, kernel_size=(3, 3), stride=(1, 1), padding=(16, 16), dilation=(16, 16), bias=False)\n",
      "    (bn2): BatchNorm2d(32, eps=1e-05, momentum=0.1, affine=True, track_running_stats=True)\n",
      "    (prelu2): PReLU(num_parameters=1)\n",
      "    (conv3): Conv2d(32, 128, kernel_size=(1, 1), stride=(1, 1), bias=False)\n",
      "    (bn3): BatchNorm2d(128, eps=1e-05, momentum=0.1, affine=True, track_running_stats=True)\n",
      "    (prelu3): PReLU(num_parameters=1)\n",
      "    (regularizer): Dropout2d(p=0.1, inplace=False)\n",
      "    (prelu_out): PReLU(num_parameters=1)\n",
      "  )\n",
      "  (bottleneck31): BottleNeck(\n",
      "    (conv1): Conv2d(128, 32, kernel_size=(1, 1), stride=(1, 1), bias=False)\n",
      "    (bn1): BatchNorm2d(32, eps=1e-05, momentum=0.1, affine=True, track_running_stats=True)\n",
      "    (prelu1): PReLU(num_parameters=1)\n",
      "    (conv2): Conv2d(32, 32, kernel_size=(3, 3), stride=(1, 1), padding=(1, 1), bias=False)\n",
      "    (bn2): BatchNorm2d(32, eps=1e-05, momentum=0.1, affine=True, track_running_stats=True)\n",
      "    (prelu2): PReLU(num_parameters=1)\n",
      "    (conv3): Conv2d(32, 128, kernel_size=(1, 1), stride=(1, 1), bias=False)\n",
      "    (bn3): BatchNorm2d(128, eps=1e-05, momentum=0.1, affine=True, track_running_stats=True)\n",
      "    (prelu3): PReLU(num_parameters=1)\n",
      "    (regularizer): Dropout2d(p=0.1, inplace=False)\n",
      "    (prelu_out): PReLU(num_parameters=1)\n",
      "  )\n",
      "  (bottleneck32): BottleNeck(\n",
      "    (conv1): Conv2d(128, 32, kernel_size=(1, 1), stride=(1, 1), bias=False)\n",
      "    (bn1): BatchNorm2d(32, eps=1e-05, momentum=0.1, affine=True, track_running_stats=True)\n",
      "    (prelu1): PReLU(num_parameters=1)\n",
      "    (conv2): Conv2d(32, 32, kernel_size=(3, 3), stride=(1, 1), padding=(2, 2), dilation=(2, 2), bias=False)\n",
      "    (bn2): BatchNorm2d(32, eps=1e-05, momentum=0.1, affine=True, track_running_stats=True)\n",
      "    (prelu2): PReLU(num_parameters=1)\n",
      "    (conv3): Conv2d(32, 128, kernel_size=(1, 1), stride=(1, 1), bias=False)\n",
      "    (bn3): BatchNorm2d(128, eps=1e-05, momentum=0.1, affine=True, track_running_stats=True)\n",
      "    (prelu3): PReLU(num_parameters=1)\n",
      "    (regularizer): Dropout2d(p=0.1, inplace=False)\n",
      "    (prelu_out): PReLU(num_parameters=1)\n",
      "  )\n",
      "  (bottleneck33): BottleNeck(\n",
      "    (conv1): Conv2d(128, 32, kernel_size=(1, 1), stride=(1, 1), bias=False)\n",
      "    (bn1): BatchNorm2d(32, eps=1e-05, momentum=0.1, affine=True, track_running_stats=True)\n",
      "    (prelu1): PReLU(num_parameters=1)\n",
      "    (conv2): Sequential(\n",
      "      (0): Conv2d(32, 32, kernel_size=(1, 5), stride=(1, 1), padding=(0, 2))\n",
      "      (1): BatchNorm2d(32, eps=1e-05, momentum=0.1, affine=True, track_running_stats=True)\n",
      "      (2): PReLU(num_parameters=1)\n",
      "      (3): Conv2d(32, 32, kernel_size=(5, 1), stride=(1, 1), padding=(2, 0))\n",
      "    )\n",
      "    (bn2): BatchNorm2d(32, eps=1e-05, momentum=0.1, affine=True, track_running_stats=True)\n",
      "    (prelu2): PReLU(num_parameters=1)\n",
      "    (conv3): Conv2d(32, 128, kernel_size=(1, 1), stride=(1, 1), bias=False)\n",
      "    (bn3): BatchNorm2d(128, eps=1e-05, momentum=0.1, affine=True, track_running_stats=True)\n",
      "    (prelu3): PReLU(num_parameters=1)\n",
      "    (regularizer): Dropout2d(p=0.1, inplace=False)\n",
      "    (prelu_out): PReLU(num_parameters=1)\n",
      "  )\n",
      "  (bottleneck34): BottleNeck(\n",
      "    (conv1): Conv2d(128, 32, kernel_size=(1, 1), stride=(1, 1), bias=False)\n",
      "    (bn1): BatchNorm2d(32, eps=1e-05, momentum=0.1, affine=True, track_running_stats=True)\n",
      "    (prelu1): PReLU(num_parameters=1)\n",
      "    (conv2): Conv2d(32, 32, kernel_size=(3, 3), stride=(1, 1), padding=(4, 4), dilation=(4, 4), bias=False)\n",
      "    (bn2): BatchNorm2d(32, eps=1e-05, momentum=0.1, affine=True, track_running_stats=True)\n",
      "    (prelu2): PReLU(num_parameters=1)\n",
      "    (conv3): Conv2d(32, 128, kernel_size=(1, 1), stride=(1, 1), bias=False)\n",
      "    (bn3): BatchNorm2d(128, eps=1e-05, momentum=0.1, affine=True, track_running_stats=True)\n",
      "    (prelu3): PReLU(num_parameters=1)\n",
      "    (regularizer): Dropout2d(p=0.1, inplace=False)\n",
      "    (prelu_out): PReLU(num_parameters=1)\n",
      "  )\n",
      "  (bottleneck35): BottleNeck(\n",
      "    (conv1): Conv2d(128, 32, kernel_size=(1, 1), stride=(1, 1), bias=False)\n",
      "    (bn1): BatchNorm2d(32, eps=1e-05, momentum=0.1, affine=True, track_running_stats=True)\n",
      "    (prelu1): PReLU(num_parameters=1)\n",
      "    (conv2): Conv2d(32, 32, kernel_size=(3, 3), stride=(1, 1), padding=(1, 1), bias=False)\n",
      "    (bn2): BatchNorm2d(32, eps=1e-05, momentum=0.1, affine=True, track_running_stats=True)\n",
      "    (prelu2): PReLU(num_parameters=1)\n",
      "    (conv3): Conv2d(32, 128, kernel_size=(1, 1), stride=(1, 1), bias=False)\n",
      "    (bn3): BatchNorm2d(128, eps=1e-05, momentum=0.1, affine=True, track_running_stats=True)\n",
      "    (prelu3): PReLU(num_parameters=1)\n",
      "    (regularizer): Dropout2d(p=0.1, inplace=False)\n",
      "    (prelu_out): PReLU(num_parameters=1)\n",
      "  )\n",
      "  (bottleneck36): BottleNeck(\n",
      "    (conv1): Conv2d(128, 32, kernel_size=(1, 1), stride=(1, 1), bias=False)\n",
      "    (bn1): BatchNorm2d(32, eps=1e-05, momentum=0.1, affine=True, track_running_stats=True)\n",
      "    (prelu1): PReLU(num_parameters=1)\n",
      "    (conv2): Conv2d(32, 32, kernel_size=(3, 3), stride=(1, 1), padding=(8, 8), dilation=(8, 8), bias=False)\n",
      "    (bn2): BatchNorm2d(32, eps=1e-05, momentum=0.1, affine=True, track_running_stats=True)\n",
      "    (prelu2): PReLU(num_parameters=1)\n",
      "    (conv3): Conv2d(32, 128, kernel_size=(1, 1), stride=(1, 1), bias=False)\n",
      "    (bn3): BatchNorm2d(128, eps=1e-05, momentum=0.1, affine=True, track_running_stats=True)\n",
      "    (prelu3): PReLU(num_parameters=1)\n",
      "    (regularizer): Dropout2d(p=0.1, inplace=False)\n",
      "    (prelu_out): PReLU(num_parameters=1)\n",
      "  )\n",
      "  (bottleneck37): BottleNeck(\n",
      "    (conv1): Conv2d(128, 32, kernel_size=(1, 1), stride=(1, 1), bias=False)\n",
      "    (bn1): BatchNorm2d(32, eps=1e-05, momentum=0.1, affine=True, track_running_stats=True)\n",
      "    (prelu1): PReLU(num_parameters=1)\n",
      "    (conv2): Sequential(\n",
      "      (0): Conv2d(32, 32, kernel_size=(1, 5), stride=(1, 1), padding=(0, 2))\n",
      "      (1): BatchNorm2d(32, eps=1e-05, momentum=0.1, affine=True, track_running_stats=True)\n",
      "      (2): PReLU(num_parameters=1)\n",
      "      (3): Conv2d(32, 32, kernel_size=(5, 1), stride=(1, 1), padding=(2, 0))\n",
      "    )\n",
      "    (bn2): BatchNorm2d(32, eps=1e-05, momentum=0.1, affine=True, track_running_stats=True)\n",
      "    (prelu2): PReLU(num_parameters=1)\n",
      "    (conv3): Conv2d(32, 128, kernel_size=(1, 1), stride=(1, 1), bias=False)\n",
      "    (bn3): BatchNorm2d(128, eps=1e-05, momentum=0.1, affine=True, track_running_stats=True)\n",
      "    (prelu3): PReLU(num_parameters=1)\n",
      "    (regularizer): Dropout2d(p=0.1, inplace=False)\n",
      "    (prelu_out): PReLU(num_parameters=1)\n",
      "  )\n",
      "  (bottleneck38): BottleNeck(\n",
      "    (conv1): Conv2d(128, 32, kernel_size=(1, 1), stride=(1, 1), bias=False)\n",
      "    (bn1): BatchNorm2d(32, eps=1e-05, momentum=0.1, affine=True, track_running_stats=True)\n",
      "    (prelu1): PReLU(num_parameters=1)\n",
      "    (conv2): Conv2d(32, 32, kernel_size=(3, 3), stride=(1, 1), padding=(16, 16), dilation=(16, 16), bias=False)\n",
      "    (bn2): BatchNorm2d(32, eps=1e-05, momentum=0.1, affine=True, track_running_stats=True)\n",
      "    (prelu2): PReLU(num_parameters=1)\n",
      "    (conv3): Conv2d(32, 128, kernel_size=(1, 1), stride=(1, 1), bias=False)\n",
      "    (bn3): BatchNorm2d(128, eps=1e-05, momentum=0.1, affine=True, track_running_stats=True)\n",
      "    (prelu3): PReLU(num_parameters=1)\n",
      "    (regularizer): Dropout2d(p=0.1, inplace=False)\n",
      "    (prelu_out): PReLU(num_parameters=1)\n",
      "  )\n",
      "  (bottleneck40): BottleNeck(\n",
      "    (spatil_conv): Conv2d(128, 64, kernel_size=(1, 1), stride=(1, 1), bias=False)\n",
      "    (bn_up): BatchNorm2d(64, eps=1e-05, momentum=0.1, affine=True, track_running_stats=True)\n",
      "    (unpool): MaxUnpool2d(kernel_size=(2, 2), stride=(2, 2), padding=(0, 0))\n",
      "    (conv1): Conv2d(128, 32, kernel_size=(1, 1), stride=(1, 1), bias=False)\n",
      "    (bn1): BatchNorm2d(32, eps=1e-05, momentum=0.1, affine=True, track_running_stats=True)\n",
      "    (prelu1): ReLU(inplace=True)\n",
      "    (conv2): ConvTranspose2d(32, 32, kernel_size=(3, 3), stride=(2, 2), padding=(1, 1), output_padding=(1, 1), bias=False)\n",
      "    (bn2): BatchNorm2d(32, eps=1e-05, momentum=0.1, affine=True, track_running_stats=True)\n",
      "    (prelu2): ReLU(inplace=True)\n",
      "    (conv3): Conv2d(32, 64, kernel_size=(1, 1), stride=(1, 1), bias=False)\n",
      "    (bn3): BatchNorm2d(64, eps=1e-05, momentum=0.1, affine=True, track_running_stats=True)\n",
      "    (prelu3): ReLU(inplace=True)\n",
      "    (regularizer): Dropout2d(p=0.1, inplace=False)\n",
      "    (prelu_out): ReLU(inplace=True)\n",
      "  )\n",
      "  (bottleneck41): BottleNeck(\n",
      "    (conv1): Conv2d(64, 16, kernel_size=(1, 1), stride=(1, 1), bias=False)\n",
      "    (bn1): BatchNorm2d(16, eps=1e-05, momentum=0.1, affine=True, track_running_stats=True)\n",
      "    (prelu1): ReLU(inplace=True)\n",
      "    (conv2): Conv2d(16, 16, kernel_size=(3, 3), stride=(1, 1), padding=(1, 1), bias=False)\n",
      "    (bn2): BatchNorm2d(16, eps=1e-05, momentum=0.1, affine=True, track_running_stats=True)\n",
      "    (prelu2): ReLU(inplace=True)\n",
      "    (conv3): Conv2d(16, 64, kernel_size=(1, 1), stride=(1, 1), bias=False)\n",
      "    (bn3): BatchNorm2d(64, eps=1e-05, momentum=0.1, affine=True, track_running_stats=True)\n",
      "    (prelu3): ReLU(inplace=True)\n",
      "    (regularizer): Dropout2d(p=0.1, inplace=False)\n",
      "    (prelu_out): ReLU(inplace=True)\n",
      "  )\n",
      "  (bottleneck42): BottleNeck(\n",
      "    (conv1): Conv2d(64, 16, kernel_size=(1, 1), stride=(1, 1), bias=False)\n",
      "    (bn1): BatchNorm2d(16, eps=1e-05, momentum=0.1, affine=True, track_running_stats=True)\n",
      "    (prelu1): ReLU(inplace=True)\n",
      "    (conv2): Conv2d(16, 16, kernel_size=(3, 3), stride=(1, 1), padding=(1, 1), bias=False)\n",
      "    (bn2): BatchNorm2d(16, eps=1e-05, momentum=0.1, affine=True, track_running_stats=True)\n",
      "    (prelu2): ReLU(inplace=True)\n",
      "    (conv3): Conv2d(16, 64, kernel_size=(1, 1), stride=(1, 1), bias=False)\n",
      "    (bn3): BatchNorm2d(64, eps=1e-05, momentum=0.1, affine=True, track_running_stats=True)\n",
      "    (prelu3): ReLU(inplace=True)\n",
      "    (regularizer): Dropout2d(p=0.1, inplace=False)\n",
      "    (prelu_out): ReLU(inplace=True)\n",
      "  )\n",
      "  (bottleneck50): BottleNeck(\n",
      "    (spatil_conv): Conv2d(64, 16, kernel_size=(1, 1), stride=(1, 1), bias=False)\n",
      "    (bn_up): BatchNorm2d(16, eps=1e-05, momentum=0.1, affine=True, track_running_stats=True)\n",
      "    (unpool): MaxUnpool2d(kernel_size=(2, 2), stride=(2, 2), padding=(0, 0))\n",
      "    (conv1): Conv2d(64, 16, kernel_size=(1, 1), stride=(1, 1), bias=False)\n",
      "    (bn1): BatchNorm2d(16, eps=1e-05, momentum=0.1, affine=True, track_running_stats=True)\n",
      "    (prelu1): ReLU(inplace=True)\n",
      "    (conv2): ConvTranspose2d(16, 16, kernel_size=(3, 3), stride=(2, 2), padding=(1, 1), output_padding=(1, 1), bias=False)\n",
      "    (bn2): BatchNorm2d(16, eps=1e-05, momentum=0.1, affine=True, track_running_stats=True)\n",
      "    (prelu2): ReLU(inplace=True)\n",
      "    (conv3): Conv2d(16, 16, kernel_size=(1, 1), stride=(1, 1), bias=False)\n",
      "    (bn3): BatchNorm2d(16, eps=1e-05, momentum=0.1, affine=True, track_running_stats=True)\n",
      "    (prelu3): ReLU(inplace=True)\n",
      "    (regularizer): Dropout2d(p=0.1, inplace=False)\n",
      "    (prelu_out): ReLU(inplace=True)\n",
      "  )\n",
      "  (bottleneck51): BottleNeck(\n",
      "    (conv1): Conv2d(16, 4, kernel_size=(1, 1), stride=(1, 1), bias=False)\n",
      "    (bn1): BatchNorm2d(4, eps=1e-05, momentum=0.1, affine=True, track_running_stats=True)\n",
      "    (prelu1): ReLU(inplace=True)\n",
      "    (conv2): Conv2d(4, 4, kernel_size=(3, 3), stride=(1, 1), padding=(1, 1), bias=False)\n",
      "    (bn2): BatchNorm2d(4, eps=1e-05, momentum=0.1, affine=True, track_running_stats=True)\n",
      "    (prelu2): ReLU(inplace=True)\n",
      "    (conv3): Conv2d(4, 16, kernel_size=(1, 1), stride=(1, 1), bias=False)\n",
      "    (bn3): BatchNorm2d(16, eps=1e-05, momentum=0.1, affine=True, track_running_stats=True)\n",
      "    (prelu3): ReLU(inplace=True)\n",
      "    (regularizer): Dropout2d(p=0.1, inplace=False)\n",
      "    (prelu_out): ReLU(inplace=True)\n",
      "  )\n",
      "  (fullconv): ConvTranspose2d(16, 21, kernel_size=(3, 3), stride=(2, 2), padding=(1, 1), output_padding=(1, 1), bias=False)\n",
      ")\n",
      "Nbr of trainable parameters: 358632\n"
     ]
    }
   ],
   "source": [
    "# Creating an instance of the model defined above. \n",
    "# You can modify it incase you need to pass paratemers to the constructor.\n",
    "\n",
    "device = torch.device('cuda' if torch.cuda.is_available() else 'cpu')\n",
    "model = ENet(num_classes=21).to(device)\n",
    "print(model)"
   ]
  },
  {
   "cell_type": "markdown",
   "metadata": {
    "id": "qnwuaDmb-lyN"
   },
   "source": [
    "### 1.3 Hyperparameters (0.5 points)\n",
    "Define all the hyperparameters(not restricted to the three given below) that you find useful here."
   ]
  },
  {
   "cell_type": "code",
   "execution_count": 5,
   "metadata": {
    "id": "WF0YK-ku-lyO"
   },
   "outputs": [],
   "source": [
    "local_path = './VOCdevkit/VOC2012/' # modify it according to your device\n",
    "learning_rate = 0.0001\n",
    "epochs = 100 # number of training epochs\n",
    "bs = 9 # batch size \n",
    "nw = 0 # num workers\n",
    "\n",
    "# optimizer hyperparameters\n",
    "weight_decay = 5*1e-4\n",
    "momentum = 0.9"
   ]
  },
  {
   "cell_type": "markdown",
   "metadata": {
    "id": "CNGOuOjz-lyO"
   },
   "source": [
    "### 1.4 Dataset and Dataloader(0.5 points)\n",
    "Create the dataset using pascalVOCDataset class defined above. Use local_path defined in the cell above as root. "
   ]
  },
  {
   "cell_type": "code",
   "execution_count": 6,
   "metadata": {
    "colab": {
     "base_uri": "https://localhost:8080/"
    },
    "id": "P631vzKc-lyO",
    "outputId": "2ab87ff0-df6f-4f38-e995-87ebd58ad86f"
   },
   "outputs": [
    {
     "name": "stdout",
     "output_type": "stream",
     "text": [
      "Number of Training Iterations per Epoch: 163\n"
     ]
    }
   ],
   "source": [
    "# Train Loader\n",
    "\n",
    "# dataset variable\n",
    "train_dataset = pascalVOCDataset(\n",
    "    root=local_path,\n",
    "    split=\"train\",\n",
    "    is_transform=True)\n",
    "\n",
    "# dataloader variable\n",
    "trainloader = data.DataLoader(\n",
    "        train_dataset,\n",
    "        batch_size=bs,\n",
    "        num_workers=nw,\n",
    "        shuffle=True,\n",
    "    )\n",
    "\n",
    "print(\"Number of Training Iterations per Epoch:\", len(trainloader))"
   ]
  },
  {
   "cell_type": "code",
   "execution_count": 7,
   "metadata": {
    "colab": {
     "base_uri": "https://localhost:8080/",
     "height": 574
    },
    "id": "pqZZclSjmjEH",
    "outputId": "225ead9a-e324-45bf-be93-166e4764d466"
   },
   "outputs": [
    {
     "name": "stderr",
     "output_type": "stream",
     "text": [
      "Clipping input data to the valid range for imshow with RGB data ([0..1] for floats or [0..255] for integers).\n"
     ]
    },
    {
     "name": "stdout",
     "output_type": "stream",
     "text": [
      "torch.Size([9, 3, 512, 512])\n",
      "torch.Size([9, 512, 512])\n"
     ]
    },
    {
     "data": {
      "image/png": "[encoded data removed]",
      "text/plain": [
       "<Figure size 432x288 with 1 Axes>"
      ]
     },
     "metadata": {
      "needs_background": "light"
     },
     "output_type": "display_data"
    },
    {
     "data": {
      "image/png": "[encoded data removed]",
      "text/plain": [
       "<Figure size 432x288 with 1 Axes>"
      ]
     },
     "metadata": {
      "needs_background": "light"
     },
     "output_type": "display_data"
    }
   ],
   "source": [
    "# Visualize Training Images and Labels\n",
    "\n",
    "dataiter = iter(trainloader)\n",
    "# get first batch of the dataset\n",
    "images, labels = dataiter.next()\n",
    "\n",
    "print(images.shape)\n",
    "print(labels.shape)\n",
    "\n",
    "def imshow(img):\n",
    "    img = img.numpy()\n",
    "    plt.imshow(np.transpose(img, (1, 2, 0)))\n",
    "    plt.show()\n",
    "\n",
    "# show one image\n",
    "imshow(images[0])\n",
    "\n",
    "# show label map\n",
    "decoded = train_dataset.decode_segmap(labels[0].cpu().numpy(), True)"
   ]
  },
  {
   "cell_type": "code",
   "execution_count": 8,
   "metadata": {
    "colab": {
     "base_uri": "https://localhost:8080/"
    },
    "id": "o8C4G8Ac9R06",
    "outputId": "03a407b1-b80a-4c92-c6e0-51dd37dbbed7"
   },
   "outputs": [
    {
     "name": "stdout",
     "output_type": "stream",
     "text": [
      "Number of Validation Iterations per Epoch: 161\n"
     ]
    }
   ],
   "source": [
    "# Val Loader\n",
    "\n",
    "# dataset variable\n",
    "val_dataset = pascalVOCDataset(\n",
    "    root=local_path,\n",
    "    split=\"val\",\n",
    "    is_transform=True)\n",
    "\n",
    "# dataloader variable\n",
    "valloader = data.DataLoader(\n",
    "        val_dataset,\n",
    "        batch_size=bs,\n",
    "        num_workers=nw,\n",
    "        shuffle=True,\n",
    "    )\n",
    "\n",
    "print(\"Number of Validation Iterations per Epoch:\", len(valloader))"
   ]
  },
  {
   "cell_type": "markdown",
   "metadata": {
    "id": "_rbFao8q-lyO"
   },
   "source": [
    "### 1.5 Loss fuction and Optimizer (1.0 point)\n",
    "Define below with the loss function you think would be most suitable for segmentation task. You are free to choose any optimizer to train the network."
   ]
  },
  {
   "cell_type": "code",
   "execution_count": 9,
   "metadata": {
    "id": "n4jn9UlY-lyO"
   },
   "outputs": [],
   "source": [
    "# loss function\n",
    "loss_f = nn.CrossEntropyLoss()\n",
    "\n",
    "# optimizer variable\n",
    "opt = torch.optim.SGD(model.parameters(), weight_decay=weight_decay, lr=learning_rate, momentum=momentum)"
   ]
  },
  {
   "cell_type": "markdown",
   "metadata": {
    "id": "RSUWex9B-lyP"
   },
   "source": [
    "### 1.6 Training the model (3.0 points)\n",
    "Your task here is to complete the code below to perform a training loop and save the model weights after each epoch of training."
   ]
  },
  {
   "cell_type": "code",
   "execution_count": 10,
   "metadata": {
    "id": "t4TUfmH6lqg6"
   },
   "outputs": [],
   "source": [
    "import numpy as np\n",
    "from sklearn.metrics import confusion_matrix\n",
    "import sklearn as sk\n",
    "\n",
    "\n",
    "class custom_conf_matrix():\n",
    "    def __init__(self, lbl,n_class):\n",
    "        self.lbl = lbl\n",
    "        self.n_class = n_class\n",
    "        self.conf_mat = np.zeros((self.n_class, self.n_class))\n",
    "\n",
    "    def update_step(self, truth_lbl, pred_lbl):\n",
    "        if (truth_lbl == 255).all():\n",
    "            return\n",
    "        curr_conf_mat = confusion_matrix(y_true=truth_lbl,\n",
    "                                         y_pred=pred_lbl,\n",
    "                                         labels=self.lbl)\n",
    "        self.conf_mat += curr_conf_mat\n",
    "\n",
    "    \n",
    "    def evaluate(self):\n",
    "        intersection = np.diag(self.conf_mat)\n",
    "        ground_truth_set = self.conf_mat.sum(axis=1)\n",
    "        predicted_set = self.conf_mat.sum(axis=0)\n",
    "        union =  ground_truth_set + predicted_set - intersection\n",
    "        mean_iou = np.mean(intersection / union.astype(np.float32))\n",
    "        \n",
    "        TP = np.diag(self.conf_mat)\n",
    "        FP = self.conf_mat.sum(axis=0) - TP\n",
    "        FN = self.conf_mat.sum(axis=1) - TP\n",
    "        TN = self.conf_mat.sum() - (FP + FN + TP)\n",
    "        f1_score = TP/(TP + 0.5*(FP+FN))\n",
    "        mean_f1 = np.mean(f1_score)\n",
    "        dice = 2*TP/ (2*TP+ FP + FN)\n",
    "        mean_dice = np.mean(dice)\n",
    "        \n",
    "        return mean_iou, mean_f1, mean_dice\n",
    "    \n",
    "    def reset(self):\n",
    "        self.conf_mat = np.zeros((self.n_class, self.n_class))"
   ]
  },
  {
   "cell_type": "code",
   "execution_count": 11,
   "metadata": {
    "colab": {
     "base_uri": "https://localhost:8080/"
    },
    "id": "vFCGH32pm1W1",
    "outputId": "36b42291-f38e-4181-bb8f-106ed50eb6a4",
    "scrolled": true
   },
   "outputs": [
    {
     "name": "stdout",
     "output_type": "stream",
     "text": [
      "Epoch: 0 Loss: 3.0293468712297686\n",
      "Epoch: 5 Loss: 1.7922596960711332\n"
     ]
    },
    {
     "name": "stderr",
     "output_type": "stream",
     "text": [
      "\r",
      "  0%|          | 0/161 [00:00<?, ?it/s]"
     ]
    },
    {
     "name": "stdout",
     "output_type": "stream",
     "text": [
      "Epoch: 10 Loss: 1.4873191220628703\n",
      "**Validation Step**\n",
      "\n"
     ]
    },
    {
     "name": "stderr",
     "output_type": "stream",
     "text": [
      "100%|██████████| 161/161 [04:08<00:00,  1.54s/it]\n"
     ]
    },
    {
     "name": "stdout",
     "output_type": "stream",
     "text": [
      "Epoch: 10 Val Loss: 1.4705588617680236 Mean IoU: 0.0354 F1-Score: 0.0406 Dice Coeff: 0.0406\n",
      "Epoch: 15 Loss: 1.4062745366359781\n"
     ]
    },
    {
     "name": "stderr",
     "output_type": "stream",
     "text": [
      "\r",
      "  0%|          | 0/161 [00:00<?, ?it/s]"
     ]
    },
    {
     "name": "stdout",
     "output_type": "stream",
     "text": [
      "Epoch: 20 Loss: 1.3715534360130872\n",
      "**Validation Step**\n",
      "\n"
     ]
    },
    {
     "name": "stderr",
     "output_type": "stream",
     "text": [
      "100%|██████████| 161/161 [04:08<00:00,  1.54s/it]\n"
     ]
    },
    {
     "name": "stdout",
     "output_type": "stream",
     "text": [
      "Epoch: 20 Val Loss: 1.3540083925176112 Mean IoU: 0.0354 F1-Score: 0.0406 Dice Coeff: 0.0406\n",
      "Epoch: 25 Loss: 1.3503141893199617\n"
     ]
    },
    {
     "name": "stderr",
     "output_type": "stream",
     "text": [
      "\r",
      "  0%|          | 0/161 [00:00<?, ?it/s]"
     ]
    },
    {
     "name": "stdout",
     "output_type": "stream",
     "text": [
      "Epoch: 30 Loss: 1.3381723461706945\n",
      "**Validation Step**\n",
      "\n"
     ]
    },
    {
     "name": "stderr",
     "output_type": "stream",
     "text": [
      "100%|██████████| 161/161 [04:03<00:00,  1.51s/it]\n"
     ]
    },
    {
     "name": "stdout",
     "output_type": "stream",
     "text": [
      "Epoch: 30 Val Loss: 1.3193414403785089 Mean IoU: 0.0354 F1-Score: 0.0406 Dice Coeff: 0.0406\n",
      "Epoch: 35 Loss: 1.3247759795627712\n"
     ]
    },
    {
     "name": "stderr",
     "output_type": "stream",
     "text": [
      "\r",
      "  0%|          | 0/161 [00:00<?, ?it/s]"
     ]
    },
    {
     "name": "stdout",
     "output_type": "stream",
     "text": [
      "Epoch: 40 Loss: 1.3196958299794812\n",
      "**Validation Step**\n",
      "\n"
     ]
    },
    {
     "name": "stderr",
     "output_type": "stream",
     "text": [
      "100%|██████████| 161/161 [04:04<00:00,  1.52s/it]\n"
     ]
    },
    {
     "name": "stdout",
     "output_type": "stream",
     "text": [
      "Epoch: 40 Val Loss: 1.3018973569692291 Mean IoU: 0.0354 F1-Score: 0.0406 Dice Coeff: 0.0406\n",
      "Epoch: 45 Loss: 1.309364360900013\n"
     ]
    },
    {
     "name": "stderr",
     "output_type": "stream",
     "text": [
      "\r",
      "  0%|          | 0/161 [00:00<?, ?it/s]"
     ]
    },
    {
     "name": "stdout",
     "output_type": "stream",
     "text": [
      "Epoch: 50 Loss: 1.304203487978391\n",
      "**Validation Step**\n",
      "\n"
     ]
    },
    {
     "name": "stderr",
     "output_type": "stream",
     "text": [
      "100%|██████████| 161/161 [04:07<00:00,  1.53s/it]\n"
     ]
    },
    {
     "name": "stdout",
     "output_type": "stream",
     "text": [
      "Epoch: 50 Val Loss: 1.2864590424188176 Mean IoU: 0.0354 F1-Score: 0.0406 Dice Coeff: 0.0406\n",
      "Epoch: 55 Loss: 1.3006224880920598\n"
     ]
    },
    {
     "name": "stderr",
     "output_type": "stream",
     "text": [
      "\r",
      "  0%|          | 0/161 [00:00<?, ?it/s]"
     ]
    },
    {
     "name": "stdout",
     "output_type": "stream",
     "text": [
      "Epoch: 60 Loss: 1.2922967131152474\n",
      "**Validation Step**\n",
      "\n"
     ]
    },
    {
     "name": "stderr",
     "output_type": "stream",
     "text": [
      "100%|██████████| 161/161 [04:11<00:00,  1.56s/it]\n"
     ]
    },
    {
     "name": "stdout",
     "output_type": "stream",
     "text": [
      "Epoch: 60 Val Loss: 1.2746495097320272 Mean IoU: 0.0354 F1-Score: 0.0406 Dice Coeff: 0.0406\n",
      "Epoch: 65 Loss: 1.2852056059369281\n"
     ]
    },
    {
     "name": "stderr",
     "output_type": "stream",
     "text": [
      "\r",
      "  0%|          | 0/161 [00:00<?, ?it/s]"
     ]
    },
    {
     "name": "stdout",
     "output_type": "stream",
     "text": [
      "Epoch: 70 Loss: 1.2843660942615907\n",
      "**Validation Step**\n",
      "\n"
     ]
    },
    {
     "name": "stderr",
     "output_type": "stream",
     "text": [
      "100%|██████████| 161/161 [04:17<00:00,  1.60s/it]\n"
     ]
    },
    {
     "name": "stdout",
     "output_type": "stream",
     "text": [
      "Epoch: 70 Val Loss: 1.2670538777149982 Mean IoU: 0.0354 F1-Score: 0.0406 Dice Coeff: 0.0406\n",
      "Epoch: 75 Loss: 1.2773661353836763\n"
     ]
    },
    {
     "name": "stderr",
     "output_type": "stream",
     "text": [
      "\r",
      "  0%|          | 0/161 [00:00<?, ?it/s]"
     ]
    },
    {
     "name": "stdout",
     "output_type": "stream",
     "text": [
      "Epoch: 80 Loss: 1.2741350388965724\n",
      "**Validation Step**\n",
      "\n"
     ]
    },
    {
     "name": "stderr",
     "output_type": "stream",
     "text": [
      "100%|██████████| 161/161 [04:14<00:00,  1.58s/it]\n"
     ]
    },
    {
     "name": "stdout",
     "output_type": "stream",
     "text": [
      "Epoch: 80 Val Loss: 1.259092732986308 Mean IoU: 0.0354 F1-Score: 0.0406 Dice Coeff: 0.0406\n",
      "Epoch: 85 Loss: 1.2742098076211894\n"
     ]
    },
    {
     "name": "stderr",
     "output_type": "stream",
     "text": [
      "\r",
      "  0%|          | 0/161 [00:00<?, ?it/s]"
     ]
    },
    {
     "name": "stdout",
     "output_type": "stream",
     "text": [
      "Epoch: 90 Loss: 1.2677919012637227\n",
      "**Validation Step**\n",
      "\n"
     ]
    },
    {
     "name": "stderr",
     "output_type": "stream",
     "text": [
      "100%|██████████| 161/161 [04:05<00:00,  1.53s/it]\n"
     ]
    },
    {
     "name": "stdout",
     "output_type": "stream",
     "text": [
      "Epoch: 90 Val Loss: 1.2519477150455025 Mean IoU: 0.0354 F1-Score: 0.0406 Dice Coeff: 0.0406\n",
      "Epoch: 95 Loss: 1.2670967648365745\n",
      "{0: 3.0293468712297686, 1: 2.7340523699309927, 2: 2.438672314392277, 3: 2.1603117040329916, 4: 1.9477872109851955, 5: 1.7922596960711332, 6: 1.6861814106900268, 7: 1.6149866164096294, 8: 1.5600886820284134, 9: 1.5162746035979568, 10: 1.4873191220628703, 11: 1.4603686435090983, 12: 1.4435198051066487, 13: 1.4282099436397202, 14: 1.4173850164823005, 15: 1.4062745366359781, 16: 1.4000065238929233, 17: 1.392399897970305, 18: 1.3817168075614181, 19: 1.3769771522539525, 20: 1.3715534360130872, 21: 1.3680308004098436, 22: 1.3632204726429804, 23: 1.3602903796119925, 24: 1.3567724059695847, 25: 1.3503141893199617, 26: 1.351689166086583, 27: 1.3438642120068789, 28: 1.3437849839040839, 29: 1.339988823682984, 30: 1.3381723461706945, 31: 1.3347403363216144, 32: 1.3347854222988058, 33: 1.3321276793450665, 34: 1.3265414117304093, 35: 1.3247759795627712, 36: 1.3263094757963543, 37: 1.322745609502851, 38: 1.3224607263606019, 39: 1.3241889085506369, 40: 1.3196958299794812, 41: 1.3158675172577607, 42: 1.3137824184324112, 43: 1.3134411163856647, 44: 1.3106930559398207, 45: 1.309364360900013, 46: 1.3111547125629122, 47: 1.311813435305847, 48: 1.3052604776218626, 49: 1.3057348296686184, 50: 1.304203487978391, 51: 1.303623024305683, 52: 1.3029501672171375, 53: 1.299612828924612, 54: 1.3016413011433887, 55: 1.3006224880920598, 56: 1.3001817965800047, 57: 1.2984069366396571, 58: 1.2953168055031197, 59: 1.2928681527178711, 60: 1.2922967131152474, 61: 1.2924193966608106, 62: 1.2925961968357578, 63: 1.2878941282904222, 64: 1.2876833549306437, 65: 1.2852056059369281, 66: 1.285197713623749, 67: 1.2866146041571729, 68: 1.2859229895234838, 69: 1.2827900231250224, 70: 1.2843660942615907, 71: 1.282558949447117, 72: 1.2833114478485717, 73: 1.28043390892766, 74: 1.2837031732307622, 75: 1.2773661353836763, 76: 1.282216505770303, 77: 1.2792228101952676, 78: 1.27385674261608, 79: 1.2699322173931846, 80: 1.2741350388965724, 81: 1.2775971022851629, 82: 1.2782736318243062, 83: 1.2718542126790147, 84: 1.2709586068165082, 85: 1.2742098076211894, 86: 1.2724204301102762, 87: 1.269006244975365, 88: 1.2680974737998167, 89: 1.2712088662422507, 90: 1.2677919012637227, 91: 1.2680499517113153, 92: 1.2681921365802273, 93: 1.267286096979504, 94: 1.2675464511649008, 95: 1.2670967648365745, 96: 1.2645871200444507, 97: 1.264137870694962, 98: 1.2640733799320056, 99: 1.2627787619280668} {10: 1.4705588617680236, 20: 1.3540083925176112, 30: 1.3193414403785089, 40: 1.3018973569692291, 50: 1.2864590424188176, 60: 1.2746495097320272, 70: 1.2670538777149982, 80: 1.259092732986308, 90: 1.2519477150455025}\n"
     ]
    }
   ],
   "source": [
    "def train():\n",
    "    epoch = 0\n",
    "    total_epochs = epochs \n",
    "    train_step = 5\n",
    "    val_step = 10\n",
    "    val_epoch = 0\n",
    "    \n",
    "    train_losses = {}\n",
    "    \n",
    "    \n",
    "    val_losses = {}\n",
    "    val_ious = {}\n",
    "    val_fons = {}\n",
    "    val_dics = {}\n",
    "    \n",
    "    iou_interval = val_step\n",
    "\n",
    "    while(epoch < total_epochs):\n",
    "        epoch_loss = 0\n",
    "        for (imgs, labels) in trainloader:\n",
    "            model.train()            \n",
    "            imgs, labels = imgs.to(device), labels.to(device)\n",
    "            opt.zero_grad()\n",
    "            out = model(imgs)\n",
    "            loss = loss_f(out,labels)\n",
    "            loss.backward()\n",
    "            opt.step()\n",
    "\n",
    "            epoch_loss += loss.item()\n",
    "            \n",
    "        train_losses[epoch] = epoch_loss / len(trainloader)\n",
    "\n",
    "        if epoch % train_step == 0:\n",
    "            print(\"Epoch:\", epoch, \"Loss:\", epoch_loss/len(trainloader))\n",
    "            \n",
    "        if epoch % val_step == 0 and epoch != 0:\n",
    "            print(\"**Validation Step**\\n\")\n",
    "            \n",
    "            model.eval()\n",
    "            conf_mat = custom_conf_matrix([i for i in range(0, 21)], 21)\n",
    "            with torch.no_grad():\n",
    "                val_loss = 0\n",
    "                for vi, (vimg, vlbl) in enumerate(tqdm(valloader)):\n",
    "                    vimg, vlbl = vimg.to(device), vlbl.to(device)\n",
    "                    vout = model(vimg)\n",
    "                    vloss = loss_f(vout,vlbl)\n",
    "                    pred = vout.data.max(1)[1].cpu().numpy()\n",
    "                    gt = vlbl.data.cpu().numpy()\n",
    "                    conf_mat.update_step(gt.flatten(), pred.flatten())\n",
    "                    val_loss += vloss.item()\n",
    "                    \n",
    "                val_losses[epoch] = val_loss/len(valloader)\n",
    "                \n",
    "                \n",
    "                iou_score, f1_score, dice_coeff = conf_mat.evaluate()\n",
    "                \n",
    "                val_ious[val_epoch] = iou_score\n",
    "                val_fons[val_epoch] = f1_score\n",
    "                val_dics[val_epoch] = dice_coeff\n",
    "                \n",
    "                print(\"Epoch:\", epoch, \"Val Loss:\", val_loss/len(valloader), \n",
    "                      \"Mean IoU:\", np.round(iou_score, 4), \"F1-Score:\", \n",
    "                      np.round(f1_score, 4), \"Dice Coeff:\", np.round(dice_coeff, 4))\n",
    "                \n",
    "                state = {\n",
    "                    \"epoch\": epoch + 1,\n",
    "                    \"model_state\": model.state_dict(),\n",
    "                    \"optimizer_state\": opt.state_dict(),\n",
    "                    \"best_iou\": iou_score,\n",
    "                }\n",
    "\n",
    "                save_path = os.path.join(\"./saved-models\", \"{}_epoch{}_model.pth\".\n",
    "                                         format(\"ENet_VOC\", epoch))\n",
    "                torch.save(state, save_path)\n",
    "\n",
    "                conf_mat.reset()\n",
    "                val_epoch += 1\n",
    "\n",
    "        epoch += 1   \n",
    "\n",
    "    print(train_losses, val_losses)\n",
    "\n",
    "if __name__ == \"__main__\":\n",
    "    train()"
   ]
  },
  {
   "cell_type": "markdown",
   "metadata": {
    "id": "UCc8eeEB-lyP"
   },
   "source": [
    "### 1.7 Evaluate your model (1.5 points)\n",
    "In this section you have to implement the evaluation metrics for your model. Calculate the values of F1-score, dice coefficient and AUC-ROC score on the data you used for training. You can use external packages like scikit-learn to compute above metrics."
   ]
  },
  {
   "cell_type": "code",
   "execution_count": null,
   "metadata": {
    "id": "kIh7eA7v-lyP"
   },
   "outputs": [],
   "source": [
    "\"\"\"\n",
    "Evaluation has been performed during the training and the definition\n",
    "of evaluation metrics can be found under custom_conf_matrix.evaluate()\n",
    "\"\"\""
   ]
  },
  {
   "cell_type": "markdown",
   "metadata": {
    "id": "-SA9ysNl-lyQ"
   },
   "source": [
    "### 1.8 Plot the evaluation metrics against epochs (1.0)\n",
    "In section 1.6 we saved the weights of the model after each epoch. In this section, you have to calculate the evaluation metrics after each epoch of training by loading the weights for each epoch. Once you have calculated the evaluation metrics for each epoch, plot them against the epochs."
   ]
  },
  {
   "cell_type": "markdown",
   "metadata": {
    "id": "bNLbMuez-lyQ"
   },
   "source": [
    "### 1.9 Visualize results (0.5 points)\n",
    "For any 10 images in the dataset, show the images along the with their segmentation mask."
   ]
  },
  {
   "cell_type": "code",
   "execution_count": 13,
   "metadata": {
    "id": "gOzOAtZQps5x"
   },
   "outputs": [],
   "source": [
    "# dataset variable\n",
    "test_dataset = pascalVOCDataset(\n",
    "    root=local_path,\n",
    "    is_transform=True,\n",
    "    test_mode=True)\n",
    "\n",
    "testloader = test_dataset"
   ]
  },
  {
   "cell_type": "code",
   "execution_count": 24,
   "metadata": {
    "id": "4gbDJua_-Dyw"
   },
   "outputs": [],
   "source": [
    "model_PATH = './esults/ENet_VOC_epoch90_model.pth'\n",
    "out_path = './opt-images'"
   ]
  },
  {
   "cell_type": "code",
   "execution_count": null,
   "metadata": {
    "id": "8T_quqCm-Fz9"
   },
   "outputs": [],
   "source": [
    "def test(img):    \n",
    "    n_classes = testloader.n_classes\n",
    "    resized_img = m.imresize(img, (testloader.img_size[0], testloader.img_size[1]), interp=\"bicubic\")\n",
    "    orig_size = img.shape[:-1]\n",
    "    img = m.imresize(img, (testloader.img_size[0], testloader.img_size[1]))\n",
    "    img = img[:, :, ::-1]\n",
    "    img = img.astype(np.float64)\n",
    "    img -= testloader.mean\n",
    "\n",
    "    # NHWC -> NCHW\n",
    "    img = img.transpose(2, 0, 1)\n",
    "    img = np.expand_dims(img, 0)\n",
    "    img = torch.from_numpy(img).float()\n",
    "\n",
    "    # Setup Model    \n",
    "    model = ENet(num_classes=21)\n",
    "    \n",
    "    checkpoint = torch.load(model_PATH)\n",
    "    model.load_state_dict(checkpoint[\"model_state\"])\n",
    "    model.eval()\n",
    "    model.to(device)\n",
    "\n",
    "    images = img.to(device)\n",
    "    outputs = model(images)\n",
    "    pred = np.squeeze(outputs.data.max(1)[1].cpu().numpy(), axis=0)\n",
    "    \n",
    "    decoded = testloader.decode_segmap(pred)\n",
    "    print(\"Classes found: \", np.unique(pred))\n",
    "    m.imshow()\n",
    "    m.imsave(, decoded)\n",
    "    print(\"Segmentation Mask Saved at: {}\".format(out_path))"
   ]
  },
  {
   "cell_type": "code",
   "execution_count": null,
   "metadata": {},
   "outputs": [],
   "source": [
    "if __name__ == \"__main__\":\n",
    "    images = [m.imread(file) for file in glob.glob(\"./test-images/*.jpg\")]\n",
    "    \n",
    "    for img in images:\n",
    "        test(img)"
   ]
  },
  {
   "cell_type": "code",
   "execution_count": null,
   "metadata": {},
   "outputs": [],
   "source": [
    "\"\"\"\n",
    "NOTE: We did not obtain desired plots for evaluations metrics as well as \n",
    "proper visualizations for output segmentation maps in this .ipynb notebook. \n",
    "So, we provide evaluation metrics and output segmentation maps using a \n",
    "different dataloader (analogous to ones we used for Tasks 2 and 3) in our \n",
    "report. The code for ENet using this data loader can be found in the git \n",
    "repository under the folder task-2-3.\n",
    "\"\"\" "
   ]
  }
 ],
 "metadata": {
  "accelerator": "GPU",
  "colab": {
   "collapsed_sections": [],
   "name": "Vision_task_1_SB-ENET_2.ipynb",
   "provenance": []
  },
  "kernelspec": {
   "display_name": "Python 3",
   "language": "python",
   "name": "python3"
  },
  "language_info": {
   "codemirror_mode": {
    "name": "ipython",
    "version": 3
   },
   "file_extension": ".py",
   "mimetype": "text/x-python",
   "name": "python",
   "nbconvert_exporter": "python",
   "pygments_lexer": "ipython3",
   "version": "3.7.10"
  }
 },
 "nbformat": 4,
 "nbformat_minor": 1
}
